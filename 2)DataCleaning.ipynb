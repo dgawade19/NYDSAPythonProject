{
 "cells": [
  {
   "cell_type": "markdown",
   "id": "b0626e51",
   "metadata": {},
   "source": [
    "### CITIBIKE ANALYSIS PROJECT\n"
   ]
  },
  {
   "cell_type": "markdown",
   "id": "636630e9",
   "metadata": {},
   "source": [
    "#### Libraries"
   ]
  },
  {
   "cell_type": "code",
   "execution_count": 1,
   "id": "f3e54783",
   "metadata": {},
   "outputs": [],
   "source": [
    "# Libraries for reading and manipulating data\n",
    "import numpy as np\n",
    "import pandas as pd\n",
    "\n",
    "pd.set_option('display.max_columns',20)\n",
    "pd.set_option('display.max_rows', 200)"
   ]
  },
  {
   "cell_type": "markdown",
   "id": "20244887",
   "metadata": {},
   "source": [
    "### Reading Dataset\n"
   ]
  },
  {
   "cell_type": "code",
   "execution_count": 2,
   "id": "710f9f7a",
   "metadata": {},
   "outputs": [
    {
     "data": {
      "text/html": [
       "<div>\n",
       "<style scoped>\n",
       "    .dataframe tbody tr th:only-of-type {\n",
       "        vertical-align: middle;\n",
       "    }\n",
       "\n",
       "    .dataframe tbody tr th {\n",
       "        vertical-align: top;\n",
       "    }\n",
       "\n",
       "    .dataframe thead th {\n",
       "        text-align: right;\n",
       "    }\n",
       "</style>\n",
       "<table border=\"1\" class=\"dataframe\">\n",
       "  <thead>\n",
       "    <tr style=\"text-align: right;\">\n",
       "      <th></th>\n",
       "      <th>ride_id</th>\n",
       "      <th>rideable_type</th>\n",
       "      <th>started_at</th>\n",
       "      <th>ended_at</th>\n",
       "      <th>start_station_name</th>\n",
       "      <th>start_station_id</th>\n",
       "      <th>end_station_name</th>\n",
       "      <th>end_station_id</th>\n",
       "      <th>start_lat</th>\n",
       "      <th>start_lng</th>\n",
       "      <th>end_lat</th>\n",
       "      <th>end_lng</th>\n",
       "      <th>member_casual</th>\n",
       "    </tr>\n",
       "  </thead>\n",
       "  <tbody>\n",
       "    <tr>\n",
       "      <th>0</th>\n",
       "      <td>D68047AAA9A72501</td>\n",
       "      <td>classic_bike</td>\n",
       "      <td>2022-08-12 18:14:45</td>\n",
       "      <td>2022-08-12 18:21:23</td>\n",
       "      <td>Columbus Drive</td>\n",
       "      <td>JC014</td>\n",
       "      <td>Hamilton Park</td>\n",
       "      <td>JC009</td>\n",
       "      <td>40.718355</td>\n",
       "      <td>-74.038914</td>\n",
       "      <td>40.727596</td>\n",
       "      <td>-74.044247</td>\n",
       "      <td>member</td>\n",
       "    </tr>\n",
       "    <tr>\n",
       "      <th>1</th>\n",
       "      <td>E5B82A9F588A7650</td>\n",
       "      <td>classic_bike</td>\n",
       "      <td>2022-08-19 01:04:39</td>\n",
       "      <td>2022-08-19 01:14:10</td>\n",
       "      <td>South Waterfront Walkway - Sinatra Dr &amp; 1 St</td>\n",
       "      <td>HB103</td>\n",
       "      <td>8 St &amp; Washington St</td>\n",
       "      <td>HB603</td>\n",
       "      <td>40.736982</td>\n",
       "      <td>-74.027781</td>\n",
       "      <td>40.745984</td>\n",
       "      <td>-74.028199</td>\n",
       "      <td>member</td>\n",
       "    </tr>\n",
       "    <tr>\n",
       "      <th>2</th>\n",
       "      <td>13D19CCBCC9D7B76</td>\n",
       "      <td>classic_bike</td>\n",
       "      <td>2022-08-19 18:13:45</td>\n",
       "      <td>2022-08-19 19:32:47</td>\n",
       "      <td>South Waterfront Walkway - Sinatra Dr &amp; 1 St</td>\n",
       "      <td>HB103</td>\n",
       "      <td>11 St &amp; Washington St</td>\n",
       "      <td>HB502</td>\n",
       "      <td>40.736982</td>\n",
       "      <td>-74.027781</td>\n",
       "      <td>40.749985</td>\n",
       "      <td>-74.027150</td>\n",
       "      <td>member</td>\n",
       "    </tr>\n",
       "    <tr>\n",
       "      <th>3</th>\n",
       "      <td>AA0DBFF220DA98F6</td>\n",
       "      <td>classic_bike</td>\n",
       "      <td>2022-08-21 13:43:05</td>\n",
       "      <td>2022-08-21 13:53:13</td>\n",
       "      <td>Columbus Drive</td>\n",
       "      <td>JC014</td>\n",
       "      <td>Montgomery St</td>\n",
       "      <td>JC099</td>\n",
       "      <td>40.718355</td>\n",
       "      <td>-74.038914</td>\n",
       "      <td>40.719420</td>\n",
       "      <td>-74.050990</td>\n",
       "      <td>member</td>\n",
       "    </tr>\n",
       "    <tr>\n",
       "      <th>4</th>\n",
       "      <td>8F11D340492FCD32</td>\n",
       "      <td>electric_bike</td>\n",
       "      <td>2022-08-04 22:02:12</td>\n",
       "      <td>2022-08-04 22:21:31</td>\n",
       "      <td>South Waterfront Walkway - Sinatra Dr &amp; 1 St</td>\n",
       "      <td>HB103</td>\n",
       "      <td>Pershing Field</td>\n",
       "      <td>JC024</td>\n",
       "      <td>40.736982</td>\n",
       "      <td>-74.027781</td>\n",
       "      <td>40.742677</td>\n",
       "      <td>-74.051789</td>\n",
       "      <td>member</td>\n",
       "    </tr>\n",
       "  </tbody>\n",
       "</table>\n",
       "</div>"
      ],
      "text/plain": [
       "            ride_id  rideable_type           started_at             ended_at  \\\n",
       "0  D68047AAA9A72501   classic_bike  2022-08-12 18:14:45  2022-08-12 18:21:23   \n",
       "1  E5B82A9F588A7650   classic_bike  2022-08-19 01:04:39  2022-08-19 01:14:10   \n",
       "2  13D19CCBCC9D7B76   classic_bike  2022-08-19 18:13:45  2022-08-19 19:32:47   \n",
       "3  AA0DBFF220DA98F6   classic_bike  2022-08-21 13:43:05  2022-08-21 13:53:13   \n",
       "4  8F11D340492FCD32  electric_bike  2022-08-04 22:02:12  2022-08-04 22:21:31   \n",
       "\n",
       "                             start_station_name start_station_id  \\\n",
       "0                                Columbus Drive            JC014   \n",
       "1  South Waterfront Walkway - Sinatra Dr & 1 St            HB103   \n",
       "2  South Waterfront Walkway - Sinatra Dr & 1 St            HB103   \n",
       "3                                Columbus Drive            JC014   \n",
       "4  South Waterfront Walkway - Sinatra Dr & 1 St            HB103   \n",
       "\n",
       "        end_station_name end_station_id  start_lat  start_lng    end_lat  \\\n",
       "0          Hamilton Park          JC009  40.718355 -74.038914  40.727596   \n",
       "1   8 St & Washington St          HB603  40.736982 -74.027781  40.745984   \n",
       "2  11 St & Washington St          HB502  40.736982 -74.027781  40.749985   \n",
       "3          Montgomery St          JC099  40.718355 -74.038914  40.719420   \n",
       "4         Pershing Field          JC024  40.736982 -74.027781  40.742677   \n",
       "\n",
       "     end_lng member_casual  \n",
       "0 -74.044247        member  \n",
       "1 -74.028199        member  \n",
       "2 -74.027150        member  \n",
       "3 -74.050990        member  \n",
       "4 -74.051789        member  "
      ]
     },
     "execution_count": 2,
     "metadata": {},
     "output_type": "execute_result"
    }
   ],
   "source": [
    "#read the csv file into a dataframe\n",
    "data = pd.read_csv('/Users/drushti/Documents/PythonProject/CitiBike/citibike.csv')\n",
    "\n",
    "#create a copy of the data\n",
    "raw_df = data.copy()\n",
    "\n",
    "#display first five rows of the dataset\n",
    "raw_df.head()"
   ]
  },
  {
   "cell_type": "code",
   "execution_count": 3,
   "id": "79c7acda",
   "metadata": {},
   "outputs": [
    {
     "data": {
      "text/plain": [
       "(981011, 13)"
      ]
     },
     "execution_count": 3,
     "metadata": {},
     "output_type": "execute_result"
    }
   ],
   "source": [
    "raw_df.shape"
   ]
  },
  {
   "cell_type": "markdown",
   "id": "ea2223d2",
   "metadata": {},
   "source": [
    "### DESCRIPTIVE SUMMARY OF DATASET:\n",
    "- There are a total of **981011** rows and **13** columns in the dataset.\n",
    "- The type of bike are specified under **bike_type** column.\n",
    "- The type of user are specified under **member_casual** column.\n",
    "- The day and time when the ride started and ended are specified under **startedat** and **endedat* column.\n",
    "- The **startstattionname** and **endstationname** are the names of the station where the ride started and ended.\n",
    "- The**start_lat**,**start_lng**,**end_lat**,**end_lng** are the latitude and longitude points for stations.\n",
    "- Each station has **start_station_id** and **end_station_id**.\n",
    "- Each trip has a **ride_id**."
   ]
  },
  {
   "cell_type": "markdown",
   "id": "02c3d76b",
   "metadata": {},
   "source": [
    "### DATASET INFORMATION"
   ]
  },
  {
   "cell_type": "code",
   "execution_count": 4,
   "id": "76068707",
   "metadata": {},
   "outputs": [
    {
     "name": "stdout",
     "output_type": "stream",
     "text": [
      "<class 'pandas.core.frame.DataFrame'>\n",
      "RangeIndex: 981011 entries, 0 to 981010\n",
      "Data columns (total 13 columns):\n",
      " #   Column              Non-Null Count   Dtype  \n",
      "---  ------              --------------   -----  \n",
      " 0   ride_id             981011 non-null  object \n",
      " 1   rideable_type       981011 non-null  object \n",
      " 2   started_at          981011 non-null  object \n",
      " 3   ended_at            981011 non-null  object \n",
      " 4   start_station_name  980936 non-null  object \n",
      " 5   start_station_id    980936 non-null  object \n",
      " 6   end_station_name    977641 non-null  object \n",
      " 7   end_station_id      977641 non-null  object \n",
      " 8   start_lat           981011 non-null  float64\n",
      " 9   start_lng           981011 non-null  float64\n",
      " 10  end_lat             979712 non-null  float64\n",
      " 11  end_lng             979712 non-null  float64\n",
      " 12  member_casual       981011 non-null  object \n",
      "dtypes: float64(4), object(9)\n",
      "memory usage: 97.3+ MB\n"
     ]
    }
   ],
   "source": [
    "raw_df.info()"
   ]
  },
  {
   "cell_type": "markdown",
   "id": "078e35e1",
   "metadata": {},
   "source": [
    "#### COLUMN CONVERSION"
   ]
  },
  {
   "cell_type": "code",
   "execution_count": 5,
   "id": "298e0986",
   "metadata": {},
   "outputs": [],
   "source": [
    "#### converting starttime and endtime to datetime object\n",
    "raw_df['started_at'] = pd.to_datetime(raw_df['started_at'],errors='coerce')\n",
    "raw_df['ended_at'] = pd.to_datetime(raw_df['ended_at'],errors='coerce')"
   ]
  },
  {
   "cell_type": "markdown",
   "id": "34c745d0",
   "metadata": {},
   "source": [
    "#### NEW COLUMN"
   ]
  },
  {
   "cell_type": "code",
   "execution_count": 6,
   "id": "08590ec8",
   "metadata": {},
   "outputs": [
    {
     "data": {
      "text/html": [
       "<div>\n",
       "<style scoped>\n",
       "    .dataframe tbody tr th:only-of-type {\n",
       "        vertical-align: middle;\n",
       "    }\n",
       "\n",
       "    .dataframe tbody tr th {\n",
       "        vertical-align: top;\n",
       "    }\n",
       "\n",
       "    .dataframe thead th {\n",
       "        text-align: right;\n",
       "    }\n",
       "</style>\n",
       "<table border=\"1\" class=\"dataframe\">\n",
       "  <thead>\n",
       "    <tr style=\"text-align: right;\">\n",
       "      <th></th>\n",
       "      <th>ride_id</th>\n",
       "      <th>rideable_type</th>\n",
       "      <th>started_at</th>\n",
       "      <th>ended_at</th>\n",
       "      <th>start_station_name</th>\n",
       "      <th>start_station_id</th>\n",
       "      <th>end_station_name</th>\n",
       "      <th>end_station_id</th>\n",
       "      <th>start_lat</th>\n",
       "      <th>start_lng</th>\n",
       "      <th>end_lat</th>\n",
       "      <th>end_lng</th>\n",
       "      <th>member_casual</th>\n",
       "      <th>startweekday</th>\n",
       "      <th>endweekday</th>\n",
       "      <th>starttime</th>\n",
       "      <th>endtime</th>\n",
       "      <th>month</th>\n",
       "      <th>tripduration</th>\n",
       "    </tr>\n",
       "  </thead>\n",
       "  <tbody>\n",
       "    <tr>\n",
       "      <th>0</th>\n",
       "      <td>D68047AAA9A72501</td>\n",
       "      <td>classic_bike</td>\n",
       "      <td>2022-08-12 18:14:45</td>\n",
       "      <td>2022-08-12 18:21:23</td>\n",
       "      <td>Columbus Drive</td>\n",
       "      <td>JC014</td>\n",
       "      <td>Hamilton Park</td>\n",
       "      <td>JC009</td>\n",
       "      <td>40.718355</td>\n",
       "      <td>-74.038914</td>\n",
       "      <td>40.727596</td>\n",
       "      <td>-74.044247</td>\n",
       "      <td>member</td>\n",
       "      <td>Friday</td>\n",
       "      <td>Friday</td>\n",
       "      <td>18</td>\n",
       "      <td>18</td>\n",
       "      <td>August</td>\n",
       "      <td>6.63</td>\n",
       "    </tr>\n",
       "  </tbody>\n",
       "</table>\n",
       "</div>"
      ],
      "text/plain": [
       "            ride_id rideable_type          started_at            ended_at  \\\n",
       "0  D68047AAA9A72501  classic_bike 2022-08-12 18:14:45 2022-08-12 18:21:23   \n",
       "\n",
       "  start_station_name start_station_id end_station_name end_station_id  \\\n",
       "0     Columbus Drive            JC014    Hamilton Park          JC009   \n",
       "\n",
       "   start_lat  start_lng    end_lat    end_lng member_casual startweekday  \\\n",
       "0  40.718355 -74.038914  40.727596 -74.044247        member       Friday   \n",
       "\n",
       "  endweekday  starttime  endtime   month  tripduration  \n",
       "0     Friday         18       18  August          6.63  "
      ]
     },
     "execution_count": 6,
     "metadata": {},
     "output_type": "execute_result"
    }
   ],
   "source": [
    "# Extracting day and time for trip from start to finish\n",
    "raw_df['startweekday'] = raw_df['started_at'].dt.day_name()\n",
    "raw_df['endweekday'] = raw_df['ended_at'].dt.day_name()\n",
    "raw_df['starttime'] = raw_df['started_at'].dt.hour\n",
    "raw_df['endtime'] = raw_df['ended_at'].dt.hour\n",
    "raw_df['month'] = raw_df['started_at'].dt.month_name()\n",
    "\n",
    "# calculating the trip duration in minutes\n",
    "raw_df['tripduration'] = np.round((raw_df['ended_at'] - raw_df['started_at']).dt.total_seconds()/60,2)\n",
    "raw_df.head(1)\n"
   ]
  },
  {
   "cell_type": "markdown",
   "id": "f36162ae",
   "metadata": {},
   "source": [
    "#### MISSING VALUES"
   ]
  },
  {
   "cell_type": "code",
   "execution_count": 7,
   "id": "5e9ec585",
   "metadata": {},
   "outputs": [
    {
     "name": "stdout",
     "output_type": "stream",
     "text": [
      "3370\n",
      "0.34\n"
     ]
    },
    {
     "data": {
      "text/plain": [
       "(977641, 19)"
      ]
     },
     "execution_count": 7,
     "metadata": {},
     "output_type": "execute_result"
    }
   ],
   "source": [
    "#exrtracting rows with missing value \n",
    "mask = raw_df.isnull().any(axis = 1)\n",
    "missing_values = raw_df.loc[mask,:]\n",
    "print(missing_values.shape[0])\n",
    "\n",
    "#percentage of missing rows \n",
    "per_val = np.round(missing_values.shape[0] / raw_df.shape[0] * 100 ,2)\n",
    "print(per_val)\n",
    "\n",
    "# since the rows with missing values are only 0.34% of entire dataset, dropping these rows\n",
    "raw_df.dropna(axis=0,inplace=True)\n",
    "raw_df.shape"
   ]
  },
  {
   "cell_type": "code",
   "execution_count": 8,
   "id": "204ab5bc",
   "metadata": {},
   "outputs": [
    {
     "name": "stdout",
     "output_type": "stream",
     "text": [
      "(22750, 19)\n"
     ]
    },
    {
     "data": {
      "text/plain": [
       "(954891, 19)"
      ]
     },
     "execution_count": 8,
     "metadata": {},
     "output_type": "execute_result"
    }
   ],
   "source": [
    " #Invalid Trip zero mins - Docking station not working properly, Starttime and endtime not recorded correctly.\n",
    "new = raw_df[raw_df['tripduration'] < 1.00]\n",
    "print(new.shape)\n",
    "\n",
    "#Extracting rows with trip duration greater than zero mins\n",
    "raw_df = raw_df[raw_df['tripduration'] >= 1.00]\n",
    "raw_df.shape"
   ]
  },
  {
   "cell_type": "code",
   "execution_count": 9,
   "id": "027ea4db",
   "metadata": {},
   "outputs": [
    {
     "name": "stdout",
     "output_type": "stream",
     "text": [
      "(954891, 19)\n",
      "There are no duplicate reecords\n"
     ]
    }
   ],
   "source": [
    "#checking for duplicate records\n",
    "copy_per_tripdur = raw_df.copy()\n",
    "copy_per_tripdur.drop_duplicates(inplace = True)\n",
    "print(copy_per_tripdur.shape)\n",
    "print('There are no duplicate reecords')"
   ]
  },
  {
   "cell_type": "markdown",
   "id": "2c39a1ec",
   "metadata": {},
   "source": [
    "### ADDITIONAL DESCRIPTIVE SUMMARY OF DATASET:"
   ]
  },
  {
   "cell_type": "markdown",
   "id": "19516a32",
   "metadata": {},
   "source": [
    "- There are a total of **954891** rows and **19** columns in the dataset.\n",
    "- The time when the ride started and ended are specified under **starttime** and **endtime** column.\n",
    "- The **month** column states during which month the ride was taken.\n",
    "- The duration of each ride is calculated under **tripduration** column."
   ]
  },
  {
   "cell_type": "markdown",
   "id": "bbace598",
   "metadata": {},
   "source": [
    "### STATISTICAL SUMMARY"
   ]
  },
  {
   "cell_type": "code",
   "execution_count": 10,
   "id": "3ec4ab2f",
   "metadata": {},
   "outputs": [
    {
     "data": {
      "text/html": [
       "<div>\n",
       "<style scoped>\n",
       "    .dataframe tbody tr th:only-of-type {\n",
       "        vertical-align: middle;\n",
       "    }\n",
       "\n",
       "    .dataframe tbody tr th {\n",
       "        vertical-align: top;\n",
       "    }\n",
       "\n",
       "    .dataframe thead th {\n",
       "        text-align: right;\n",
       "    }\n",
       "</style>\n",
       "<table border=\"1\" class=\"dataframe\">\n",
       "  <thead>\n",
       "    <tr style=\"text-align: right;\">\n",
       "      <th></th>\n",
       "      <th>count</th>\n",
       "      <th>mean</th>\n",
       "      <th>min</th>\n",
       "      <th>25%</th>\n",
       "      <th>50%</th>\n",
       "      <th>75%</th>\n",
       "      <th>max</th>\n",
       "      <th>std</th>\n",
       "    </tr>\n",
       "  </thead>\n",
       "  <tbody>\n",
       "    <tr>\n",
       "      <th>started_at</th>\n",
       "      <td>954891</td>\n",
       "      <td>2023-01-30 01:32:43.919439616</td>\n",
       "      <td>2022-08-01 00:00:07</td>\n",
       "      <td>2022-10-10 22:32:27</td>\n",
       "      <td>2023-02-03 06:50:07</td>\n",
       "      <td>2023-05-18 17:14:26.500000</td>\n",
       "      <td>2023-07-31 23:59:44</td>\n",
       "      <td>NaN</td>\n",
       "    </tr>\n",
       "    <tr>\n",
       "      <th>ended_at</th>\n",
       "      <td>954891</td>\n",
       "      <td>2023-01-30 01:44:34.464475392</td>\n",
       "      <td>2022-08-01 00:12:24</td>\n",
       "      <td>2022-10-10 22:51:23.500000</td>\n",
       "      <td>2023-02-03 06:56:23</td>\n",
       "      <td>2023-05-18 17:22:41</td>\n",
       "      <td>2023-08-01 08:28:23</td>\n",
       "      <td>NaN</td>\n",
       "    </tr>\n",
       "    <tr>\n",
       "      <th>start_lat</th>\n",
       "      <td>954891.0</td>\n",
       "      <td>40.732203</td>\n",
       "      <td>40.705897</td>\n",
       "      <td>40.721124</td>\n",
       "      <td>40.735208</td>\n",
       "      <td>40.742258</td>\n",
       "      <td>40.863943</td>\n",
       "      <td>0.01213</td>\n",
       "    </tr>\n",
       "    <tr>\n",
       "      <th>start_lng</th>\n",
       "      <td>954891.0</td>\n",
       "      <td>-74.040257</td>\n",
       "      <td>-74.088964</td>\n",
       "      <td>-74.045953</td>\n",
       "      <td>-74.037977</td>\n",
       "      <td>-74.031021</td>\n",
       "      <td>-73.941173</td>\n",
       "      <td>0.011989</td>\n",
       "    </tr>\n",
       "    <tr>\n",
       "      <th>end_lat</th>\n",
       "      <td>954891.0</td>\n",
       "      <td>40.732163</td>\n",
       "      <td>40.663062</td>\n",
       "      <td>40.721124</td>\n",
       "      <td>40.735208</td>\n",
       "      <td>40.742258</td>\n",
       "      <td>40.86448</td>\n",
       "      <td>0.012258</td>\n",
       "    </tr>\n",
       "    <tr>\n",
       "      <th>end_lng</th>\n",
       "      <td>954891.0</td>\n",
       "      <td>-74.039991</td>\n",
       "      <td>-74.088964</td>\n",
       "      <td>-74.045572</td>\n",
       "      <td>-74.037683</td>\n",
       "      <td>-74.03097</td>\n",
       "      <td>-73.888271</td>\n",
       "      <td>0.011991</td>\n",
       "    </tr>\n",
       "    <tr>\n",
       "      <th>starttime</th>\n",
       "      <td>954891.0</td>\n",
       "      <td>14.169187</td>\n",
       "      <td>0.0</td>\n",
       "      <td>10.0</td>\n",
       "      <td>15.0</td>\n",
       "      <td>18.0</td>\n",
       "      <td>23.0</td>\n",
       "      <td>5.111388</td>\n",
       "    </tr>\n",
       "    <tr>\n",
       "      <th>endtime</th>\n",
       "      <td>954891.0</td>\n",
       "      <td>14.265349</td>\n",
       "      <td>0.0</td>\n",
       "      <td>10.0</td>\n",
       "      <td>15.0</td>\n",
       "      <td>18.0</td>\n",
       "      <td>23.0</td>\n",
       "      <td>5.165098</td>\n",
       "    </tr>\n",
       "    <tr>\n",
       "      <th>tripduration</th>\n",
       "      <td>954891.0</td>\n",
       "      <td>11.842414</td>\n",
       "      <td>1.0</td>\n",
       "      <td>4.35</td>\n",
       "      <td>6.72</td>\n",
       "      <td>10.95</td>\n",
       "      <td>13621.63</td>\n",
       "      <td>46.985006</td>\n",
       "    </tr>\n",
       "  </tbody>\n",
       "</table>\n",
       "</div>"
      ],
      "text/plain": [
       "                 count                           mean                  min  \\\n",
       "started_at      954891  2023-01-30 01:32:43.919439616  2022-08-01 00:00:07   \n",
       "ended_at        954891  2023-01-30 01:44:34.464475392  2022-08-01 00:12:24   \n",
       "start_lat     954891.0                      40.732203            40.705897   \n",
       "start_lng     954891.0                     -74.040257           -74.088964   \n",
       "end_lat       954891.0                      40.732163            40.663062   \n",
       "end_lng       954891.0                     -74.039991           -74.088964   \n",
       "starttime     954891.0                      14.169187                  0.0   \n",
       "endtime       954891.0                      14.265349                  0.0   \n",
       "tripduration  954891.0                      11.842414                  1.0   \n",
       "\n",
       "                                     25%                  50%  \\\n",
       "started_at           2022-10-10 22:32:27  2023-02-03 06:50:07   \n",
       "ended_at      2022-10-10 22:51:23.500000  2023-02-03 06:56:23   \n",
       "start_lat                      40.721124            40.735208   \n",
       "start_lng                     -74.045953           -74.037977   \n",
       "end_lat                        40.721124            40.735208   \n",
       "end_lng                       -74.045572           -74.037683   \n",
       "starttime                           10.0                 15.0   \n",
       "endtime                             10.0                 15.0   \n",
       "tripduration                        4.35                 6.72   \n",
       "\n",
       "                                     75%                  max        std  \n",
       "started_at    2023-05-18 17:14:26.500000  2023-07-31 23:59:44        NaN  \n",
       "ended_at             2023-05-18 17:22:41  2023-08-01 08:28:23        NaN  \n",
       "start_lat                      40.742258            40.863943    0.01213  \n",
       "start_lng                     -74.031021           -73.941173   0.011989  \n",
       "end_lat                        40.742258             40.86448   0.012258  \n",
       "end_lng                        -74.03097           -73.888271   0.011991  \n",
       "starttime                           18.0                 23.0   5.111388  \n",
       "endtime                             18.0                 23.0   5.165098  \n",
       "tripduration                       10.95             13621.63  46.985006  "
      ]
     },
     "execution_count": 10,
     "metadata": {},
     "output_type": "execute_result"
    }
   ],
   "source": [
    "raw_df.describe().transpose()"
   ]
  },
  {
   "cell_type": "code",
   "execution_count": 11,
   "id": "5033b387",
   "metadata": {},
   "outputs": [
    {
     "data": {
      "text/plain": [
       "(945343, 19)"
      ]
     },
     "execution_count": 11,
     "metadata": {},
     "output_type": "execute_result"
    }
   ],
   "source": [
    "raw_df = raw_df[raw_df['tripduration'] <= (raw_df['tripduration'].quantile(.99))]\n",
    "raw_df.shape"
   ]
  },
  {
   "cell_type": "code",
   "execution_count": 12,
   "id": "e41bd50f",
   "metadata": {},
   "outputs": [
    {
     "data": {
      "text/plain": [
       "count    945343.000000\n",
       "mean          9.615081\n",
       "std           9.641680\n",
       "min           1.000000\n",
       "25%           4.320000\n",
       "50%           6.670000\n",
       "75%          10.730000\n",
       "max          77.500000\n",
       "Name: tripduration, dtype: float64"
      ]
     },
     "execution_count": 12,
     "metadata": {},
     "output_type": "execute_result"
    }
   ],
   "source": [
    "raw_df['tripduration'].describe()"
   ]
  },
  {
   "cell_type": "code",
   "execution_count": 13,
   "id": "0277eba9",
   "metadata": {},
   "outputs": [],
   "source": [
    "# write to csv\n",
    "raw_df.to_csv('cleaned_df.csv', index = False)"
   ]
  }
 ],
 "metadata": {
  "kernelspec": {
   "display_name": "Python 3 (ipykernel)",
   "language": "python",
   "name": "python3"
  },
  "language_info": {
   "codemirror_mode": {
    "name": "ipython",
    "version": 3
   },
   "file_extension": ".py",
   "mimetype": "text/x-python",
   "name": "python",
   "nbconvert_exporter": "python",
   "pygments_lexer": "ipython3",
   "version": "3.11.5"
  }
 },
 "nbformat": 4,
 "nbformat_minor": 5
}
