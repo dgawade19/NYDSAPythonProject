{
 "cells": [
  {
   "cell_type": "code",
   "execution_count": 1,
   "id": "4f8d018c",
   "metadata": {},
   "outputs": [],
   "source": [
    "import os\n",
    "import pandas as pd"
   ]
  },
  {
   "cell_type": "code",
   "execution_count": 2,
   "id": "bcf711e8",
   "metadata": {},
   "outputs": [],
   "source": [
    "master_df = pd.DataFrame()"
   ]
  },
  {
   "cell_type": "code",
   "execution_count": 4,
   "id": "2b5c9c3e",
   "metadata": {},
   "outputs": [
    {
     "name": "stderr",
     "output_type": "stream",
     "text": [
      "C:\\Users\\dgawade\\AppData\\Local\\Temp\\ipykernel_14248\\2531444959.py:3: FutureWarning: The frame.append method is deprecated and will be removed from pandas in a future version. Use pandas.concat instead.\n",
      "  master_df = master_df.append(pd.read_csv(file))\n",
      "C:\\Users\\dgawade\\AppData\\Local\\Temp\\ipykernel_14248\\2531444959.py:3: FutureWarning: The frame.append method is deprecated and will be removed from pandas in a future version. Use pandas.concat instead.\n",
      "  master_df = master_df.append(pd.read_csv(file))\n",
      "C:\\Users\\dgawade\\AppData\\Local\\Temp\\ipykernel_14248\\2531444959.py:3: FutureWarning: The frame.append method is deprecated and will be removed from pandas in a future version. Use pandas.concat instead.\n",
      "  master_df = master_df.append(pd.read_csv(file))\n",
      "C:\\Users\\dgawade\\AppData\\Local\\Temp\\ipykernel_14248\\2531444959.py:3: FutureWarning: The frame.append method is deprecated and will be removed from pandas in a future version. Use pandas.concat instead.\n",
      "  master_df = master_df.append(pd.read_csv(file))\n",
      "C:\\Users\\dgawade\\AppData\\Local\\Temp\\ipykernel_14248\\2531444959.py:3: FutureWarning: The frame.append method is deprecated and will be removed from pandas in a future version. Use pandas.concat instead.\n",
      "  master_df = master_df.append(pd.read_csv(file))\n",
      "C:\\Users\\dgawade\\AppData\\Local\\Temp\\ipykernel_14248\\2531444959.py:3: FutureWarning: The frame.append method is deprecated and will be removed from pandas in a future version. Use pandas.concat instead.\n",
      "  master_df = master_df.append(pd.read_csv(file))\n",
      "C:\\Users\\dgawade\\AppData\\Local\\Temp\\ipykernel_14248\\2531444959.py:3: FutureWarning: The frame.append method is deprecated and will be removed from pandas in a future version. Use pandas.concat instead.\n",
      "  master_df = master_df.append(pd.read_csv(file))\n",
      "C:\\Users\\dgawade\\AppData\\Local\\Temp\\ipykernel_14248\\2531444959.py:3: FutureWarning: The frame.append method is deprecated and will be removed from pandas in a future version. Use pandas.concat instead.\n",
      "  master_df = master_df.append(pd.read_csv(file))\n",
      "C:\\Users\\dgawade\\AppData\\Local\\Temp\\ipykernel_14248\\2531444959.py:3: FutureWarning: The frame.append method is deprecated and will be removed from pandas in a future version. Use pandas.concat instead.\n",
      "  master_df = master_df.append(pd.read_csv(file))\n",
      "C:\\Users\\dgawade\\AppData\\Local\\Temp\\ipykernel_14248\\2531444959.py:3: FutureWarning: The frame.append method is deprecated and will be removed from pandas in a future version. Use pandas.concat instead.\n",
      "  master_df = master_df.append(pd.read_csv(file))\n",
      "C:\\Users\\dgawade\\AppData\\Local\\Temp\\ipykernel_14248\\2531444959.py:3: FutureWarning: The frame.append method is deprecated and will be removed from pandas in a future version. Use pandas.concat instead.\n",
      "  master_df = master_df.append(pd.read_csv(file))\n",
      "C:\\Users\\dgawade\\AppData\\Local\\Temp\\ipykernel_14248\\2531444959.py:3: FutureWarning: The frame.append method is deprecated and will be removed from pandas in a future version. Use pandas.concat instead.\n",
      "  master_df = master_df.append(pd.read_csv(file))\n",
      "C:\\Users\\dgawade\\AppData\\Local\\Temp\\ipykernel_14248\\2531444959.py:3: FutureWarning: The frame.append method is deprecated and will be removed from pandas in a future version. Use pandas.concat instead.\n",
      "  master_df = master_df.append(pd.read_csv(file))\n"
     ]
    }
   ],
   "source": [
    "for file in os.listdir(os.getcwd()):\n",
    "    if file.endswith('.csv'):\n",
    "        master_df = master_df.append(pd.read_csv(file))"
   ]
  },
  {
   "cell_type": "code",
   "execution_count": 5,
   "id": "18e9eb7f",
   "metadata": {},
   "outputs": [],
   "source": [
    "master_df.to_csv('citibike.csv',index=False)"
   ]
  }
 ],
 "metadata": {
  "kernelspec": {
   "display_name": "Python 3 (ipykernel)",
   "language": "python",
   "name": "python3"
  },
  "language_info": {
   "codemirror_mode": {
    "name": "ipython",
    "version": 3
   },
   "file_extension": ".py",
   "mimetype": "text/x-python",
   "name": "python",
   "nbconvert_exporter": "python",
   "pygments_lexer": "ipython3",
   "version": "3.11.5"
  }
 },
 "nbformat": 4,
 "nbformat_minor": 5
}
