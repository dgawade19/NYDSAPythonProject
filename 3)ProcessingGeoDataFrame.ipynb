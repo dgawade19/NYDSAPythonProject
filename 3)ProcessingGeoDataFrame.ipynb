{
 "cells": [
  {
   "cell_type": "markdown",
   "id": "636630e9",
   "metadata": {},
   "source": [
    "#### Libraries"
   ]
  },
  {
   "cell_type": "code",
   "execution_count": 1,
   "id": "f3e54783",
   "metadata": {},
   "outputs": [],
   "source": [
    "# Libraries for reading and manipulating data\n",
    "import numpy as np\n",
    "import pandas as pd\n",
    "\n",
    "# Libraries for geoprocessing\n",
    "\n",
    "import geopandas as gpd\n",
    "\n",
    "pd.set_option('display.max_columns', 20)\n",
    "pd.set_option('display.max_rows', 200)"
   ]
  },
  {
   "cell_type": "markdown",
   "id": "20244887",
   "metadata": {},
   "source": [
    "### Reading Dataset\n"
   ]
  },
  {
   "cell_type": "code",
   "execution_count": 2,
   "id": "710f9f7a",
   "metadata": {},
   "outputs": [],
   "source": [
    "#read the csv file into a dataframe\n",
    "cleaned_df = pd.read_csv('/Users/drushti/Documents/PythonProject/CitiBike/cleaned_df.csv')"
   ]
  },
  {
   "cell_type": "code",
   "execution_count": 3,
   "id": "64d5db2f",
   "metadata": {},
   "outputs": [
    {
     "data": {
      "text/html": [
       "<div>\n",
       "<style scoped>\n",
       "    .dataframe tbody tr th:only-of-type {\n",
       "        vertical-align: middle;\n",
       "    }\n",
       "\n",
       "    .dataframe tbody tr th {\n",
       "        vertical-align: top;\n",
       "    }\n",
       "\n",
       "    .dataframe thead th {\n",
       "        text-align: right;\n",
       "    }\n",
       "</style>\n",
       "<table border=\"1\" class=\"dataframe\">\n",
       "  <thead>\n",
       "    <tr style=\"text-align: right;\">\n",
       "      <th></th>\n",
       "      <th>ride_id</th>\n",
       "      <th>rideable_type</th>\n",
       "      <th>started_at</th>\n",
       "      <th>ended_at</th>\n",
       "      <th>start_station_name</th>\n",
       "      <th>start_station_id</th>\n",
       "      <th>end_station_name</th>\n",
       "      <th>end_station_id</th>\n",
       "      <th>start_lat</th>\n",
       "      <th>start_lng</th>\n",
       "      <th>end_lat</th>\n",
       "      <th>end_lng</th>\n",
       "      <th>member_casual</th>\n",
       "      <th>startweekday</th>\n",
       "      <th>endweekday</th>\n",
       "      <th>starttime</th>\n",
       "      <th>endtime</th>\n",
       "      <th>month</th>\n",
       "      <th>tripduration</th>\n",
       "      <th>geometry</th>\n",
       "    </tr>\n",
       "  </thead>\n",
       "  <tbody>\n",
       "    <tr>\n",
       "      <th>0</th>\n",
       "      <td>D68047AAA9A72501</td>\n",
       "      <td>classic_bike</td>\n",
       "      <td>2022-08-12 18:14:45</td>\n",
       "      <td>2022-08-12 18:21:23</td>\n",
       "      <td>Columbus Drive</td>\n",
       "      <td>JC014</td>\n",
       "      <td>Hamilton Park</td>\n",
       "      <td>JC009</td>\n",
       "      <td>40.718355</td>\n",
       "      <td>-74.038914</td>\n",
       "      <td>40.727596</td>\n",
       "      <td>-74.044247</td>\n",
       "      <td>member</td>\n",
       "      <td>Friday</td>\n",
       "      <td>Friday</td>\n",
       "      <td>18</td>\n",
       "      <td>18</td>\n",
       "      <td>August</td>\n",
       "      <td>6.63</td>\n",
       "      <td>POINT (-74.03891 40.71836)</td>\n",
       "    </tr>\n",
       "    <tr>\n",
       "      <th>1</th>\n",
       "      <td>E5B82A9F588A7650</td>\n",
       "      <td>classic_bike</td>\n",
       "      <td>2022-08-19 01:04:39</td>\n",
       "      <td>2022-08-19 01:14:10</td>\n",
       "      <td>South Waterfront Walkway - Sinatra Dr &amp; 1 St</td>\n",
       "      <td>HB103</td>\n",
       "      <td>8 St &amp; Washington St</td>\n",
       "      <td>HB603</td>\n",
       "      <td>40.736982</td>\n",
       "      <td>-74.027781</td>\n",
       "      <td>40.745984</td>\n",
       "      <td>-74.028199</td>\n",
       "      <td>member</td>\n",
       "      <td>Friday</td>\n",
       "      <td>Friday</td>\n",
       "      <td>1</td>\n",
       "      <td>1</td>\n",
       "      <td>August</td>\n",
       "      <td>9.52</td>\n",
       "      <td>POINT (-74.02778 40.73698)</td>\n",
       "    </tr>\n",
       "  </tbody>\n",
       "</table>\n",
       "</div>"
      ],
      "text/plain": [
       "            ride_id rideable_type           started_at             ended_at  \\\n",
       "0  D68047AAA9A72501  classic_bike  2022-08-12 18:14:45  2022-08-12 18:21:23   \n",
       "1  E5B82A9F588A7650  classic_bike  2022-08-19 01:04:39  2022-08-19 01:14:10   \n",
       "\n",
       "                             start_station_name start_station_id  \\\n",
       "0                                Columbus Drive            JC014   \n",
       "1  South Waterfront Walkway - Sinatra Dr & 1 St            HB103   \n",
       "\n",
       "       end_station_name end_station_id  start_lat  start_lng    end_lat  \\\n",
       "0         Hamilton Park          JC009  40.718355 -74.038914  40.727596   \n",
       "1  8 St & Washington St          HB603  40.736982 -74.027781  40.745984   \n",
       "\n",
       "     end_lng member_casual startweekday endweekday  starttime  endtime  \\\n",
       "0 -74.044247        member       Friday     Friday         18       18   \n",
       "1 -74.028199        member       Friday     Friday          1        1   \n",
       "\n",
       "    month  tripduration                    geometry  \n",
       "0  August          6.63  POINT (-74.03891 40.71836)  \n",
       "1  August          9.52  POINT (-74.02778 40.73698)  "
      ]
     },
     "execution_count": 3,
     "metadata": {},
     "output_type": "execute_result"
    }
   ],
   "source": [
    "#Creating GeoDataFrame for Start Station\n",
    "gdf_start = gpd.GeoDataFrame(\n",
    "    cleaned_df, geometry=gpd.points_from_xy(cleaned_df['start_lng'], cleaned_df['start_lat']), crs=\"EPSG:4326\")\n",
    "gdf_start.head(2)"
   ]
  },
  {
   "cell_type": "code",
   "execution_count": 4,
   "id": "f94d930e",
   "metadata": {
    "scrolled": true
   },
   "outputs": [
    {
     "data": {
      "text/html": [
       "<div>\n",
       "<style scoped>\n",
       "    .dataframe tbody tr th:only-of-type {\n",
       "        vertical-align: middle;\n",
       "    }\n",
       "\n",
       "    .dataframe tbody tr th {\n",
       "        vertical-align: top;\n",
       "    }\n",
       "\n",
       "    .dataframe thead th {\n",
       "        text-align: right;\n",
       "    }\n",
       "</style>\n",
       "<table border=\"1\" class=\"dataframe\">\n",
       "  <thead>\n",
       "    <tr style=\"text-align: right;\">\n",
       "      <th></th>\n",
       "      <th>ride_id</th>\n",
       "      <th>rideable_type</th>\n",
       "      <th>started_at</th>\n",
       "      <th>ended_at</th>\n",
       "      <th>start_station_name</th>\n",
       "      <th>start_station_id</th>\n",
       "      <th>end_station_name</th>\n",
       "      <th>end_station_id</th>\n",
       "      <th>start_lat</th>\n",
       "      <th>start_lng</th>\n",
       "      <th>end_lat</th>\n",
       "      <th>end_lng</th>\n",
       "      <th>member_casual</th>\n",
       "      <th>startweekday</th>\n",
       "      <th>endweekday</th>\n",
       "      <th>starttime</th>\n",
       "      <th>endtime</th>\n",
       "      <th>month</th>\n",
       "      <th>tripduration</th>\n",
       "      <th>geometry</th>\n",
       "    </tr>\n",
       "  </thead>\n",
       "  <tbody>\n",
       "    <tr>\n",
       "      <th>0</th>\n",
       "      <td>D68047AAA9A72501</td>\n",
       "      <td>classic_bike</td>\n",
       "      <td>2022-08-12 18:14:45</td>\n",
       "      <td>2022-08-12 18:21:23</td>\n",
       "      <td>Columbus Drive</td>\n",
       "      <td>JC014</td>\n",
       "      <td>Hamilton Park</td>\n",
       "      <td>JC009</td>\n",
       "      <td>40.718355</td>\n",
       "      <td>-74.038914</td>\n",
       "      <td>40.727596</td>\n",
       "      <td>-74.044247</td>\n",
       "      <td>member</td>\n",
       "      <td>Friday</td>\n",
       "      <td>Friday</td>\n",
       "      <td>18</td>\n",
       "      <td>18</td>\n",
       "      <td>August</td>\n",
       "      <td>6.63</td>\n",
       "      <td>POINT (-74.04425 40.72760)</td>\n",
       "    </tr>\n",
       "    <tr>\n",
       "      <th>1</th>\n",
       "      <td>E5B82A9F588A7650</td>\n",
       "      <td>classic_bike</td>\n",
       "      <td>2022-08-19 01:04:39</td>\n",
       "      <td>2022-08-19 01:14:10</td>\n",
       "      <td>South Waterfront Walkway - Sinatra Dr &amp; 1 St</td>\n",
       "      <td>HB103</td>\n",
       "      <td>8 St &amp; Washington St</td>\n",
       "      <td>HB603</td>\n",
       "      <td>40.736982</td>\n",
       "      <td>-74.027781</td>\n",
       "      <td>40.745984</td>\n",
       "      <td>-74.028199</td>\n",
       "      <td>member</td>\n",
       "      <td>Friday</td>\n",
       "      <td>Friday</td>\n",
       "      <td>1</td>\n",
       "      <td>1</td>\n",
       "      <td>August</td>\n",
       "      <td>9.52</td>\n",
       "      <td>POINT (-74.02820 40.74598)</td>\n",
       "    </tr>\n",
       "  </tbody>\n",
       "</table>\n",
       "</div>"
      ],
      "text/plain": [
       "            ride_id rideable_type           started_at             ended_at  \\\n",
       "0  D68047AAA9A72501  classic_bike  2022-08-12 18:14:45  2022-08-12 18:21:23   \n",
       "1  E5B82A9F588A7650  classic_bike  2022-08-19 01:04:39  2022-08-19 01:14:10   \n",
       "\n",
       "                             start_station_name start_station_id  \\\n",
       "0                                Columbus Drive            JC014   \n",
       "1  South Waterfront Walkway - Sinatra Dr & 1 St            HB103   \n",
       "\n",
       "       end_station_name end_station_id  start_lat  start_lng    end_lat  \\\n",
       "0         Hamilton Park          JC009  40.718355 -74.038914  40.727596   \n",
       "1  8 St & Washington St          HB603  40.736982 -74.027781  40.745984   \n",
       "\n",
       "     end_lng member_casual startweekday endweekday  starttime  endtime  \\\n",
       "0 -74.044247        member       Friday     Friday         18       18   \n",
       "1 -74.028199        member       Friday     Friday          1        1   \n",
       "\n",
       "    month  tripduration                    geometry  \n",
       "0  August          6.63  POINT (-74.04425 40.72760)  \n",
       "1  August          9.52  POINT (-74.02820 40.74598)  "
      ]
     },
     "execution_count": 4,
     "metadata": {},
     "output_type": "execute_result"
    }
   ],
   "source": [
    "#Creating GeoDataFrame for End Station\n",
    "gdf_end = gpd.GeoDataFrame(\n",
    "    cleaned_df, geometry=gpd.points_from_xy(cleaned_df['end_lng'], cleaned_df['end_lat']), crs=\"EPSG:4326\")\n",
    "gdf_end.head(2)"
   ]
  },
  {
   "cell_type": "code",
   "execution_count": 5,
   "id": "4dcac0b3",
   "metadata": {},
   "outputs": [
    {
     "data": {
      "text/html": [
       "<div>\n",
       "<style scoped>\n",
       "    .dataframe tbody tr th:only-of-type {\n",
       "        vertical-align: middle;\n",
       "    }\n",
       "\n",
       "    .dataframe tbody tr th {\n",
       "        vertical-align: top;\n",
       "    }\n",
       "\n",
       "    .dataframe thead th {\n",
       "        text-align: right;\n",
       "    }\n",
       "</style>\n",
       "<table border=\"1\" class=\"dataframe\">\n",
       "  <thead>\n",
       "    <tr style=\"text-align: right;\">\n",
       "      <th></th>\n",
       "      <th>STATEFP10</th>\n",
       "      <th>ZCTA5CE10</th>\n",
       "      <th>GEOID10</th>\n",
       "      <th>CLASSFP10</th>\n",
       "      <th>MTFCC10</th>\n",
       "      <th>FUNCSTAT10</th>\n",
       "      <th>ALAND10</th>\n",
       "      <th>AWATER10</th>\n",
       "      <th>INTPTLAT10</th>\n",
       "      <th>INTPTLON10</th>\n",
       "      <th>PARTFLG10</th>\n",
       "      <th>geometry</th>\n",
       "    </tr>\n",
       "  </thead>\n",
       "  <tbody>\n",
       "    <tr>\n",
       "      <th>0</th>\n",
       "      <td>34</td>\n",
       "      <td>08310</td>\n",
       "      <td>3408310</td>\n",
       "      <td>B5</td>\n",
       "      <td>G6350</td>\n",
       "      <td>S</td>\n",
       "      <td>29319262</td>\n",
       "      <td>81477</td>\n",
       "      <td>+39.5313447</td>\n",
       "      <td>-074.8966229</td>\n",
       "      <td>N</td>\n",
       "      <td>POLYGON ((-74.90618 39.54636, -74.91191 39.536...</td>\n",
       "    </tr>\n",
       "  </tbody>\n",
       "</table>\n",
       "</div>"
      ],
      "text/plain": [
       "  STATEFP10 ZCTA5CE10  GEOID10 CLASSFP10 MTFCC10 FUNCSTAT10   ALAND10  \\\n",
       "0        34     08310  3408310        B5   G6350          S  29319262   \n",
       "\n",
       "   AWATER10   INTPTLAT10    INTPTLON10 PARTFLG10  \\\n",
       "0     81477  +39.5313447  -074.8966229         N   \n",
       "\n",
       "                                            geometry  \n",
       "0  POLYGON ((-74.90618 39.54636, -74.91191 39.536...  "
      ]
     },
     "execution_count": 5,
     "metadata": {},
     "output_type": "execute_result"
    }
   ],
   "source": [
    "#Reading shape file for NJ boundary\n",
    "nj_map = gpd.read_file('/Users/drushti/Documents/PythonProject/CitiBike/nj.geojson')\n",
    "nj_map.head(1)"
   ]
  },
  {
   "cell_type": "code",
   "execution_count": 6,
   "id": "586b1457",
   "metadata": {},
   "outputs": [],
   "source": [
    "#EXTRACTING ZIPCODE AND GEOMETRY POINTS IN SEPERATE DATAFRAME\n",
    "# ZCTA and zipcodede = https://help.healthycities.org/hc/en-us/articles/115006016767-What-is-the-difference-between-ZIP-Codes-and-ZCTAs-#:~:text=ZCTAs%20or%20ZIP%20Code%20Tabulation,same%20as%20its%20ZIP%20Code.\n",
    "nj_map = nj_map[['ZCTA5CE10','geometry']]\n",
    "nj_map.rename(columns={'ZCTA5CE10':'zipcode'},inplace=True)"
   ]
  },
  {
   "cell_type": "markdown",
   "id": "3b96b3e9",
   "metadata": {},
   "source": [
    "#### EXTRACTING HUDSON COUNTY ZIPCODE FROM NJ BOUNDARY GEOJSON FILE"
   ]
  },
  {
   "cell_type": "code",
   "execution_count": 7,
   "id": "9e5c51ea",
   "metadata": {},
   "outputs": [],
   "source": [
    "#### EXTRACTING ONLY ZIPCODE IN DATASET FROM NJ BOUNDARY FILE \n",
    "hudson_county = ['07302', '07030', '07307', '07306', '07310', '07304', '07311',\n",
    "       '07305', '07032']\n",
    "hudson_map = nj_map[nj_map['zipcode'].isin(hudson_county)]\n"
   ]
  },
  {
   "cell_type": "markdown",
   "id": "28cbf320",
   "metadata": {},
   "source": [
    "#### SPATIAL JOIN - START STATION ZIPCODE"
   ]
  },
  {
   "cell_type": "code",
   "execution_count": 8,
   "id": "eb7ae1cb",
   "metadata": {},
   "outputs": [],
   "source": [
    "#Spatial Join on Geodataframe - https://geopandas.org/en/stable/gallery/spatial_joins.html"
   ]
  },
  {
   "cell_type": "code",
   "execution_count": 9,
   "id": "d224c5fc",
   "metadata": {},
   "outputs": [
    {
     "data": {
      "text/html": [
       "<div>\n",
       "<style scoped>\n",
       "    .dataframe tbody tr th:only-of-type {\n",
       "        vertical-align: middle;\n",
       "    }\n",
       "\n",
       "    .dataframe tbody tr th {\n",
       "        vertical-align: top;\n",
       "    }\n",
       "\n",
       "    .dataframe thead th {\n",
       "        text-align: right;\n",
       "    }\n",
       "</style>\n",
       "<table border=\"1\" class=\"dataframe\">\n",
       "  <thead>\n",
       "    <tr style=\"text-align: right;\">\n",
       "      <th></th>\n",
       "      <th>ride_id</th>\n",
       "      <th>rideable_type</th>\n",
       "      <th>started_at</th>\n",
       "      <th>ended_at</th>\n",
       "      <th>start_station_name</th>\n",
       "      <th>start_station_id</th>\n",
       "      <th>end_station_name</th>\n",
       "      <th>end_station_id</th>\n",
       "      <th>start_lat</th>\n",
       "      <th>start_lng</th>\n",
       "      <th>...</th>\n",
       "      <th>member_casual</th>\n",
       "      <th>startweekday</th>\n",
       "      <th>endweekday</th>\n",
       "      <th>starttime</th>\n",
       "      <th>endtime</th>\n",
       "      <th>month</th>\n",
       "      <th>tripduration</th>\n",
       "      <th>geometry</th>\n",
       "      <th>index_right</th>\n",
       "      <th>zipcode</th>\n",
       "    </tr>\n",
       "  </thead>\n",
       "  <tbody>\n",
       "    <tr>\n",
       "      <th>0</th>\n",
       "      <td>D68047AAA9A72501</td>\n",
       "      <td>classic_bike</td>\n",
       "      <td>2022-08-12 18:14:45</td>\n",
       "      <td>2022-08-12 18:21:23</td>\n",
       "      <td>Columbus Drive</td>\n",
       "      <td>JC014</td>\n",
       "      <td>Hamilton Park</td>\n",
       "      <td>JC009</td>\n",
       "      <td>40.718355</td>\n",
       "      <td>-74.038914</td>\n",
       "      <td>...</td>\n",
       "      <td>member</td>\n",
       "      <td>Friday</td>\n",
       "      <td>Friday</td>\n",
       "      <td>18</td>\n",
       "      <td>18</td>\n",
       "      <td>August</td>\n",
       "      <td>6.63</td>\n",
       "      <td>POINT (-74.03891 40.71836)</td>\n",
       "      <td>414.0</td>\n",
       "      <td>07302</td>\n",
       "    </tr>\n",
       "  </tbody>\n",
       "</table>\n",
       "<p>1 rows × 22 columns</p>\n",
       "</div>"
      ],
      "text/plain": [
       "            ride_id rideable_type           started_at             ended_at  \\\n",
       "0  D68047AAA9A72501  classic_bike  2022-08-12 18:14:45  2022-08-12 18:21:23   \n",
       "\n",
       "  start_station_name start_station_id end_station_name end_station_id  \\\n",
       "0     Columbus Drive            JC014    Hamilton Park          JC009   \n",
       "\n",
       "   start_lat  start_lng  ...  member_casual  startweekday endweekday  \\\n",
       "0  40.718355 -74.038914  ...         member        Friday     Friday   \n",
       "\n",
       "  starttime endtime   month  tripduration                    geometry  \\\n",
       "0        18      18  August          6.63  POINT (-74.03891 40.71836)   \n",
       "\n",
       "   index_right zipcode  \n",
       "0        414.0   07302  \n",
       "\n",
       "[1 rows x 22 columns]"
      ]
     },
     "execution_count": 9,
     "metadata": {},
     "output_type": "execute_result"
    }
   ],
   "source": [
    "#PERFORMING SPATIAL JOINM TO MATCH START STATION ID WITH RESPECTIVE ZIPCODE\n",
    "trip_start = gdf_start.sjoin(nj_map,how='left')\n",
    "trip_start.head(1)"
   ]
  },
  {
   "cell_type": "code",
   "execution_count": 10,
   "id": "630d1d3e",
   "metadata": {},
   "outputs": [
    {
     "name": "stdout",
     "output_type": "stream",
     "text": [
      "(76, 22)\n"
     ]
    },
    {
     "data": {
      "text/plain": [
       "start_station_id\n",
       "JC002      31\n",
       "JC106       6\n",
       "JC098       2\n",
       "HB303       2\n",
       "HB102       2\n",
       "4824.03     1\n",
       "7059.01     1\n",
       "5922.04     1\n",
       "5500.07     1\n",
       "HB101       1\n",
       "JC104       1\n",
       "HB404       1\n",
       "7123.04     1\n",
       "6224.05     1\n",
       "HB402       1\n",
       "HB103       1\n",
       "6889.12     1\n",
       "HB607       1\n",
       "5329.08     1\n",
       "8262.07     1\n",
       "8226.06     1\n",
       "4617.01     1\n",
       "5820.08     1\n",
       "6659.09     1\n",
       "5626.13     1\n",
       "6560.15     1\n",
       "8254.01     1\n",
       "5065.14     1\n",
       "4850.04     1\n",
       "5616.01     1\n",
       "6948.10     1\n",
       "6747.07     1\n",
       "6779.05     1\n",
       "5065.04     1\n",
       "5905.14     1\n",
       "6756.05     1\n",
       "5436.09     1\n",
       "JC116       1\n",
       "Name: count, dtype: int64"
      ]
     },
     "execution_count": 10,
     "metadata": {},
     "output_type": "execute_result"
    }
   ],
   "source": [
    "zip_null = trip_start[trip_start['zipcode'].isna()]\n",
    "print(zip_null.shape)\n",
    "zip_null['start_station_id'].value_counts()"
   ]
  },
  {
   "cell_type": "code",
   "execution_count": 11,
   "id": "61d26f99",
   "metadata": {},
   "outputs": [
    {
     "data": {
      "text/plain": [
       "(945267, 22)"
      ]
     },
     "execution_count": 11,
     "metadata": {},
     "output_type": "execute_result"
    }
   ],
   "source": [
    "#### dropping rows with missing zipcode\n",
    "ts_cleaned = trip_start.copy()\n",
    "ts_cleaned.dropna(axis=0,inplace=True)\n",
    "ts_cleaned.shape"
   ]
  },
  {
   "cell_type": "markdown",
   "id": "445a5a60",
   "metadata": {},
   "source": [
    "#### SPATIAL JOIN - END STATION ZIPCODE"
   ]
  },
  {
   "cell_type": "code",
   "execution_count": 12,
   "id": "afa3c89a",
   "metadata": {},
   "outputs": [
    {
     "data": {
      "text/html": [
       "<div>\n",
       "<style scoped>\n",
       "    .dataframe tbody tr th:only-of-type {\n",
       "        vertical-align: middle;\n",
       "    }\n",
       "\n",
       "    .dataframe tbody tr th {\n",
       "        vertical-align: top;\n",
       "    }\n",
       "\n",
       "    .dataframe thead th {\n",
       "        text-align: right;\n",
       "    }\n",
       "</style>\n",
       "<table border=\"1\" class=\"dataframe\">\n",
       "  <thead>\n",
       "    <tr style=\"text-align: right;\">\n",
       "      <th></th>\n",
       "      <th>ride_id</th>\n",
       "      <th>rideable_type</th>\n",
       "      <th>started_at</th>\n",
       "      <th>ended_at</th>\n",
       "      <th>start_station_name</th>\n",
       "      <th>start_station_id</th>\n",
       "      <th>end_station_name</th>\n",
       "      <th>end_station_id</th>\n",
       "      <th>start_lat</th>\n",
       "      <th>start_lng</th>\n",
       "      <th>...</th>\n",
       "      <th>member_casual</th>\n",
       "      <th>startweekday</th>\n",
       "      <th>endweekday</th>\n",
       "      <th>starttime</th>\n",
       "      <th>endtime</th>\n",
       "      <th>month</th>\n",
       "      <th>tripduration</th>\n",
       "      <th>geometry</th>\n",
       "      <th>index_right</th>\n",
       "      <th>zipcode</th>\n",
       "    </tr>\n",
       "  </thead>\n",
       "  <tbody>\n",
       "    <tr>\n",
       "      <th>0</th>\n",
       "      <td>D68047AAA9A72501</td>\n",
       "      <td>classic_bike</td>\n",
       "      <td>2022-08-12 18:14:45</td>\n",
       "      <td>2022-08-12 18:21:23</td>\n",
       "      <td>Columbus Drive</td>\n",
       "      <td>JC014</td>\n",
       "      <td>Hamilton Park</td>\n",
       "      <td>JC009</td>\n",
       "      <td>40.718355</td>\n",
       "      <td>-74.038914</td>\n",
       "      <td>...</td>\n",
       "      <td>member</td>\n",
       "      <td>Friday</td>\n",
       "      <td>Friday</td>\n",
       "      <td>18</td>\n",
       "      <td>18</td>\n",
       "      <td>August</td>\n",
       "      <td>6.63</td>\n",
       "      <td>POINT (-74.04425 40.72760)</td>\n",
       "      <td>414.0</td>\n",
       "      <td>07302</td>\n",
       "    </tr>\n",
       "    <tr>\n",
       "      <th>1</th>\n",
       "      <td>E5B82A9F588A7650</td>\n",
       "      <td>classic_bike</td>\n",
       "      <td>2022-08-19 01:04:39</td>\n",
       "      <td>2022-08-19 01:14:10</td>\n",
       "      <td>South Waterfront Walkway - Sinatra Dr &amp; 1 St</td>\n",
       "      <td>HB103</td>\n",
       "      <td>8 St &amp; Washington St</td>\n",
       "      <td>HB603</td>\n",
       "      <td>40.736982</td>\n",
       "      <td>-74.027781</td>\n",
       "      <td>...</td>\n",
       "      <td>member</td>\n",
       "      <td>Friday</td>\n",
       "      <td>Friday</td>\n",
       "      <td>1</td>\n",
       "      <td>1</td>\n",
       "      <td>August</td>\n",
       "      <td>9.52</td>\n",
       "      <td>POINT (-74.02820 40.74598)</td>\n",
       "      <td>549.0</td>\n",
       "      <td>07030</td>\n",
       "    </tr>\n",
       "    <tr>\n",
       "      <th>2</th>\n",
       "      <td>AA0DBFF220DA98F6</td>\n",
       "      <td>classic_bike</td>\n",
       "      <td>2022-08-21 13:43:05</td>\n",
       "      <td>2022-08-21 13:53:13</td>\n",
       "      <td>Columbus Drive</td>\n",
       "      <td>JC014</td>\n",
       "      <td>Montgomery St</td>\n",
       "      <td>JC099</td>\n",
       "      <td>40.718355</td>\n",
       "      <td>-74.038914</td>\n",
       "      <td>...</td>\n",
       "      <td>member</td>\n",
       "      <td>Sunday</td>\n",
       "      <td>Sunday</td>\n",
       "      <td>13</td>\n",
       "      <td>13</td>\n",
       "      <td>August</td>\n",
       "      <td>10.13</td>\n",
       "      <td>POINT (-74.05099 40.71942)</td>\n",
       "      <td>414.0</td>\n",
       "      <td>07302</td>\n",
       "    </tr>\n",
       "    <tr>\n",
       "      <th>3</th>\n",
       "      <td>8F11D340492FCD32</td>\n",
       "      <td>electric_bike</td>\n",
       "      <td>2022-08-04 22:02:12</td>\n",
       "      <td>2022-08-04 22:21:31</td>\n",
       "      <td>South Waterfront Walkway - Sinatra Dr &amp; 1 St</td>\n",
       "      <td>HB103</td>\n",
       "      <td>Pershing Field</td>\n",
       "      <td>JC024</td>\n",
       "      <td>40.736982</td>\n",
       "      <td>-74.027781</td>\n",
       "      <td>...</td>\n",
       "      <td>member</td>\n",
       "      <td>Thursday</td>\n",
       "      <td>Thursday</td>\n",
       "      <td>22</td>\n",
       "      <td>22</td>\n",
       "      <td>August</td>\n",
       "      <td>19.32</td>\n",
       "      <td>POINT (-74.05179 40.74268)</td>\n",
       "      <td>491.0</td>\n",
       "      <td>07307</td>\n",
       "    </tr>\n",
       "    <tr>\n",
       "      <th>4</th>\n",
       "      <td>48FF219B87E90004</td>\n",
       "      <td>electric_bike</td>\n",
       "      <td>2022-08-08 14:02:48</td>\n",
       "      <td>2022-08-08 14:16:11</td>\n",
       "      <td>Columbus Drive</td>\n",
       "      <td>JC014</td>\n",
       "      <td>Fairmount Ave</td>\n",
       "      <td>JC093</td>\n",
       "      <td>40.718355</td>\n",
       "      <td>-74.038914</td>\n",
       "      <td>...</td>\n",
       "      <td>member</td>\n",
       "      <td>Monday</td>\n",
       "      <td>Monday</td>\n",
       "      <td>14</td>\n",
       "      <td>14</td>\n",
       "      <td>August</td>\n",
       "      <td>13.38</td>\n",
       "      <td>POINT (-74.07196 40.72573)</td>\n",
       "      <td>330.0</td>\n",
       "      <td>07306</td>\n",
       "    </tr>\n",
       "  </tbody>\n",
       "</table>\n",
       "<p>5 rows × 22 columns</p>\n",
       "</div>"
      ],
      "text/plain": [
       "            ride_id  rideable_type           started_at             ended_at  \\\n",
       "0  D68047AAA9A72501   classic_bike  2022-08-12 18:14:45  2022-08-12 18:21:23   \n",
       "1  E5B82A9F588A7650   classic_bike  2022-08-19 01:04:39  2022-08-19 01:14:10   \n",
       "2  AA0DBFF220DA98F6   classic_bike  2022-08-21 13:43:05  2022-08-21 13:53:13   \n",
       "3  8F11D340492FCD32  electric_bike  2022-08-04 22:02:12  2022-08-04 22:21:31   \n",
       "4  48FF219B87E90004  electric_bike  2022-08-08 14:02:48  2022-08-08 14:16:11   \n",
       "\n",
       "                             start_station_name start_station_id  \\\n",
       "0                                Columbus Drive            JC014   \n",
       "1  South Waterfront Walkway - Sinatra Dr & 1 St            HB103   \n",
       "2                                Columbus Drive            JC014   \n",
       "3  South Waterfront Walkway - Sinatra Dr & 1 St            HB103   \n",
       "4                                Columbus Drive            JC014   \n",
       "\n",
       "       end_station_name end_station_id  start_lat  start_lng  ...  \\\n",
       "0         Hamilton Park          JC009  40.718355 -74.038914  ...   \n",
       "1  8 St & Washington St          HB603  40.736982 -74.027781  ...   \n",
       "2         Montgomery St          JC099  40.718355 -74.038914  ...   \n",
       "3        Pershing Field          JC024  40.736982 -74.027781  ...   \n",
       "4         Fairmount Ave          JC093  40.718355 -74.038914  ...   \n",
       "\n",
       "   member_casual  startweekday endweekday starttime endtime   month  \\\n",
       "0         member        Friday     Friday        18      18  August   \n",
       "1         member        Friday     Friday         1       1  August   \n",
       "2         member        Sunday     Sunday        13      13  August   \n",
       "3         member      Thursday   Thursday        22      22  August   \n",
       "4         member        Monday     Monday        14      14  August   \n",
       "\n",
       "   tripduration                    geometry  index_right zipcode  \n",
       "0          6.63  POINT (-74.04425 40.72760)        414.0   07302  \n",
       "1          9.52  POINT (-74.02820 40.74598)        549.0   07030  \n",
       "2         10.13  POINT (-74.05099 40.71942)        414.0   07302  \n",
       "3         19.32  POINT (-74.05179 40.74268)        491.0   07307  \n",
       "4         13.38  POINT (-74.07196 40.72573)        330.0   07306  \n",
       "\n",
       "[5 rows x 22 columns]"
      ]
     },
     "execution_count": 12,
     "metadata": {},
     "output_type": "execute_result"
    }
   ],
   "source": [
    "#PERFORMING SPATIAL JOIN TO MATCH END STATION ID WITH RESPECTIVE ZIPCODE\n",
    "trip_end = gdf_end.sjoin(nj_map, how='left')\n",
    "trip_end.head()"
   ]
  },
  {
   "cell_type": "code",
   "execution_count": 13,
   "id": "3098ab58",
   "metadata": {},
   "outputs": [
    {
     "name": "stdout",
     "output_type": "stream",
     "text": [
      "(1401, 22)\n"
     ]
    },
    {
     "data": {
      "text/plain": [
       "end_station_id\n",
       "5297.02    95\n",
       "5470.10    61\n",
       "5561.06    49\n",
       "5065.10    45\n",
       "5470.12    36\n",
       "           ..\n",
       "4060.09     1\n",
       "5752.09     1\n",
       "4243.01     1\n",
       "6644.08     1\n",
       "5128.04     1\n",
       "Name: count, Length: 331, dtype: int64"
      ]
     },
     "execution_count": 13,
     "metadata": {},
     "output_type": "execute_result"
    }
   ],
   "source": [
    "end_zipnull = trip_end[trip_end['zipcode'].isnull()]\n",
    "print(end_zipnull.shape)\n",
    "end_zipnull['end_station_id'].value_counts()"
   ]
  },
  {
   "cell_type": "code",
   "execution_count": 14,
   "id": "a39ea9e4",
   "metadata": {},
   "outputs": [
    {
     "data": {
      "text/plain": [
       "(943942, 22)"
      ]
     },
     "execution_count": 14,
     "metadata": {},
     "output_type": "execute_result"
    }
   ],
   "source": [
    "#### dropping rows with missing zipcode\n",
    "te_cleaned = trip_end.copy()\n",
    "te_cleaned.dropna(axis=0,inplace=True)\n",
    "te_cleaned.shape"
   ]
  },
  {
   "cell_type": "code",
   "execution_count": 15,
   "id": "cdff5f46",
   "metadata": {},
   "outputs": [],
   "source": [
    "#Renaming zipcode as start and end\n",
    "te_cleaned.rename(columns={'zipcode':'zip_end'}, inplace = True)\n",
    "ts_cleaned.rename(columns={'zipcode':'zip_start'}, inplace = True)"
   ]
  },
  {
   "cell_type": "markdown",
   "id": "1d38cbef",
   "metadata": {},
   "source": [
    "#### COMBINING START AND END GEODATAFRAME"
   ]
  },
  {
   "cell_type": "code",
   "execution_count": 16,
   "id": "1ff7f855",
   "metadata": {},
   "outputs": [
    {
     "data": {
      "text/plain": [
       "ride_id                  0\n",
       "rideable_type            0\n",
       "started_at               0\n",
       "ended_at                 0\n",
       "start_station_name       0\n",
       "start_station_id         0\n",
       "end_station_name         0\n",
       "end_station_id           0\n",
       "start_lat                0\n",
       "start_lng                0\n",
       "end_lat                  0\n",
       "end_lng                  0\n",
       "member_casual            0\n",
       "startweekday             0\n",
       "endweekday               0\n",
       "starttime                0\n",
       "endtime                  0\n",
       "month                    0\n",
       "tripduration             0\n",
       "geometry                 0\n",
       "index_right              0\n",
       "zip_start                0\n",
       "zip_end               1372\n",
       "dtype: int64"
      ]
     },
     "execution_count": 16,
     "metadata": {},
     "output_type": "execute_result"
    }
   ],
   "source": [
    "#Combing start and end geodataframe and checking for missing zipcode\n",
    "geop = ts_cleaned\n",
    "geop['zip_end'] = te_cleaned['zip_end']\n",
    "geop.isnull().sum()"
   ]
  },
  {
   "cell_type": "code",
   "execution_count": 17,
   "id": "e2a1c9b0",
   "metadata": {},
   "outputs": [
    {
     "data": {
      "text/plain": [
       "(943895, 23)"
      ]
     },
     "execution_count": 17,
     "metadata": {},
     "output_type": "execute_result"
    }
   ],
   "source": [
    "#dropping rows with missing zipcodes for end stations\n",
    "geop.dropna(axis=0,inplace=True)\n",
    "geop.shape"
   ]
  },
  {
   "cell_type": "code",
   "execution_count": 18,
   "id": "8c6fd427",
   "metadata": {},
   "outputs": [
    {
     "data": {
      "text/plain": [
       "(943895, 23)"
      ]
     },
     "execution_count": 18,
     "metadata": {},
     "output_type": "execute_result"
    }
   ],
   "source": [
    "#checking for duplicates\n",
    "geop.drop_duplicates(inplace = True)\n",
    "#no duplicates\n",
    "geop.shape"
   ]
  },
  {
   "cell_type": "code",
   "execution_count": 19,
   "id": "c606bc7f",
   "metadata": {},
   "outputs": [],
   "source": [
    "# write to csv ----> geodataframe\n",
    "geop.to_csv('geo_df.csv', index = False)"
   ]
  }
 ],
 "metadata": {
  "kernelspec": {
   "display_name": "Python 3 (ipykernel)",
   "language": "python",
   "name": "python3"
  },
  "language_info": {
   "codemirror_mode": {
    "name": "ipython",
    "version": 3
   },
   "file_extension": ".py",
   "mimetype": "text/x-python",
   "name": "python",
   "nbconvert_exporter": "python",
   "pygments_lexer": "ipython3",
   "version": "3.11.5"
  }
 },
 "nbformat": 4,
 "nbformat_minor": 5
}
